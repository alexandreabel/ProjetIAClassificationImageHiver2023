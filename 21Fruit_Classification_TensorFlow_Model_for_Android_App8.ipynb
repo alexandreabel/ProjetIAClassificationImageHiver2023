{
  "nbformat": 4,
  "nbformat_minor": 0,
  "metadata": {
    "colab": {
      "provenance": []
    },
    "kernelspec": {
      "name": "python3",
      "display_name": "Python 3"
    },
    "language_info": {
      "name": "python"
    }
  },
  "cells": [
    {
      "cell_type": "markdown",
      "source": [
        "**Avec réentrainement**"
      ],
      "metadata": {
        "id": "Bqua1D8ZP7Rp"
      }
    },
    {
      "cell_type": "markdown",
      "source": [
        "entrainement pour detecter 13 objet soit si c une pomme, une cerise , une orange , un 7up, Alexandre Abel, du Nesquik au chocolat, du Nesquik au fraise, un chocolat Skor,une coffee crisp , de la sauce hot chicken ,du thon Rio mare ,de la moutarde ou du deodorant Axe\n",
        "\n",
        "fait avec le dataset de 20 000 image par element (28 640 en vrai\n",
        "\n",
        "test=5800 train=20 000 validation =2840)"
      ],
      "metadata": {
        "id": "6KCw91oEP-IS"
      }
    },
    {
      "cell_type": "code",
      "execution_count": null,
      "metadata": {
        "colab": {
          "base_uri": "https://localhost:8080/"
        },
        "id": "bwEg9l7UP0gX",
        "outputId": "1c27c30f-cb4f-45c9-a890-1380d0276191"
      },
      "outputs": [
        {
          "output_type": "stream",
          "name": "stdout",
          "text": [
            "Mounted at /content/drive\n"
          ]
        }
      ],
      "source": [
        "from google.colab import drive\n",
        "drive.mount('/content/drive')\n",
        "\n",
        "#os.chdir(\"/content/gdrive/MyDrive/fruitsPommeCeriseOrange\")  #sert a définir le chemin ou le dossier de travail dans google drive. \n",
        "#sys.path.append(\"/content/gdrive/MyDrive/fruitsPommeCeriseOrange\") #sert a définir le chemin ou le dossier de travail dans google drive. \n",
        "\n",
        "#!cp -r <'PATH_TO_PNG_FOLDER'> /content/gdrive/My Drive/    #sa ne marche tentative regler probleme dajout dimage des video dans le Drive https://datascience.stackexchange.com/questions/64131/how-to-save-dynamic-files-from-colab-to-google-drive"
      ]
    },
    {
      "cell_type": "code",
      "source": [
        "import tensorflow as tf\n",
        "import matplotlib.pyplot as plt\n",
        "\n",
        "\n",
        "import numpy as np\n",
        "import os\n",
        "import PIL\n",
        "\n",
        "from tensorflow import keras  #note: selon la version de tensorflow , python et d'autre chose L'importation de Keras peut s'écrire différanment il y a genre 4 , 5 facon de faire pour l'importer \n",
        "from tensorflow.keras import layers\n",
        "from tensorflow.keras.models import Sequential"
      ],
      "metadata": {
        "id": "Wm1PX-PRVzvg"
      },
      "execution_count": null,
      "outputs": []
    },
    {
      "cell_type": "code",
      "source": [
        "img_height, img_width = 32, 32   #il faut que les deux nombre soit egal pour faire des image carrer \n",
        "                         #avant cetais 32 , 32\n",
        "                       #je crois que c la taille qui va mettre nos image pour lentrainement\n",
        "                       #plus le nombre est gros plus sa  peut donner des modele precis mais c plus lourd a entrainer  (je crois a verifier si c vraiment sa) \n",
        "\n",
        "batch_size = 20    # cest le nombre dimage quon va envoyer a notre modele en meme temps\n",
        "                   #en gros pour optimiser le modele au lieux denvoyer une image a la fois on en envoir 20 dans cette exemple\n",
        "\n",
        "train_ds = tf.keras.utils.image_dataset_from_directory(\n",
        "    \"/content/drive/MyDrive/fruitsPommeCeriseOrange6/train\",\n",
        "   # \"fruitsPommeCeriseOrange/train\",\n",
        "    image_size = (img_height, img_width),\n",
        "    batch_size = batch_size\n",
        ")\n",
        "#je coit quon peut ajouter aussi les methode prefaite \n",
        "#data_dir     yer deja la dans lexemple le data directory c le  \"/content/drive/MyDrive/fruitsPommeCeriseOrange3/train\",\n",
        "#validation_split  = 0.2,\n",
        "#subset = \"training\",\n",
        "#seed=42,\n",
        "#en plus de ceux deja present comme dans lexemple image_size = (img_height, img_width),  et    batch_size = batch_size\n",
        "\n",
        "val_ds = tf.keras.utils.image_dataset_from_directory(\n",
        "    \"/content/drive/MyDrive/fruitsPommeCeriseOrange6/validation\",\n",
        "   # \"fruitsPommeCeriseOrange/validation\",\n",
        "    image_size = (img_height, img_width),\n",
        "    batch_size = batch_size\n",
        ")\n",
        "test_ds = tf.keras.utils.image_dataset_from_directory(\n",
        "    \"/content/drive/MyDrive/fruitsPommeCeriseOrange6/test\",\n",
        "    #\"fruitsPommeCeriseOrange/test\",\n",
        "    image_size = (img_height, img_width),\n",
        "    batch_size = batch_size\n",
        ")"
      ],
      "metadata": {
        "colab": {
          "base_uri": "https://localhost:8080/"
        },
        "id": "Gq96YDYgV4Eg",
        "outputId": "89cd9cea-0761-45ac-e60f-145d98553cf7"
      },
      "execution_count": null,
      "outputs": [
        {
          "output_type": "stream",
          "name": "stdout",
          "text": [
            "Found 208 files belonging to 13 classes.\n",
            "Found 208 files belonging to 13 classes.\n",
            "Found 208 files belonging to 13 classes.\n"
          ]
        }
      ]
    },
    {
      "cell_type": "markdown",
      "source": [
        "detecte 13 objets"
      ],
      "metadata": {
        "id": "pvYxSJ3NV7tY"
      }
    },
    {
      "cell_type": "code",
      "source": [
        "class_names = [\"7up\",\"Alexandre Abel\",\"Nesquik au chocolat\", \"Nesquik Au Fraise\", \"chocolat Skor\",\"coffee Crisp\",\"deodorant Axe\",\"moutarde\",\"oignon espagnol\",\"orange\",\"pomme\",\"sauce Hot Chicken\",\"thon Rio Mare\"]\n",
        "#un 7up, du Nesquik au fraise, un chocolat Skor,une coffee crisp , de la sauce hot chicken ,du thon Rio mare ,de la moutarde ou du deodorant Axe\n",
        "plt.figure(figsize=(10,10))\n",
        "for images, labels in train_ds.take(1):\n",
        "  for i in range(9):\n",
        "    ax = plt.subplot(3, 3, i + 1)\n",
        "    plt.imshow(images[i].numpy().astype(\"uint8\"))\n",
        "    plt.title(class_names[labels[i]])\n",
        "    plt.axis(\"off\")"
      ],
      "metadata": {
        "colab": {
          "base_uri": "https://localhost:8080/",
          "height": 591
        },
        "id": "L03YMrr4V8pn",
        "outputId": "0b99d086-daf8-450a-db45-86129fba1275"
      },
      "execution_count": null,
      "outputs": [
        {
          "output_type": "display_data",
          "data": {
            "text/plain": [
              "<Figure size 720x720 with 9 Axes>"
            ],
            "image/png": "[encoded data removed]"
          },
          "metadata": {
            "needs_background": "light"
          }
        }
      ]
    },
    {
      "cell_type": "code",
      "source": [
        "num_classes = len(class_names)\n",
        "\n",
        "model = tf.keras.Sequential(\n",
        "    [\n",
        "     tf.keras.layers.Rescaling(1./255),\n",
        "     tf.keras.layers.Conv2D(32, 3, activation=\"relu\"),\n",
        "     tf.keras.layers.MaxPooling2D(),\n",
        "     tf.keras.layers.Conv2D(32, 3, activation=\"relu\"),\n",
        "     tf.keras.layers.MaxPooling2D(),\n",
        "     tf.keras.layers.Conv2D(32, 3, activation=\"relu\"),\n",
        "     tf.keras.layers.MaxPooling2D(),\n",
        "     tf.keras.layers.Flatten(),\n",
        "     tf.keras.layers.Dense(128, activation=\"relu\"),\n",
        "     tf.keras.layers.Dense(13)  # je crois que ici le nombre reprersente le nombre de classe detectable anciennement cetait 3\n",
        "                                 #sa peut donner une erreur lors de lentrainement si c pas le meme nombre de classe dans le layers.Dense qu'il y a réellement\n",
        "    ]\n",
        ")"
      ],
      "metadata": {
        "id": "8QMxxd7mWAx4"
      },
      "execution_count": null,
      "outputs": []
    },
    {
      "cell_type": "code",
      "source": [
        "model.compile(\n",
        "    optimizer=\"adam\",\n",
        "    #loss=tf.losses.SparseCategoricalCrossentropy(from_logits = True),\n",
        "    loss=tf.keras.losses.SparseCategoricalCrossentropy(from_logits=True),\n",
        "    metrics=['accuracy']\n",
        ")"
      ],
      "metadata": {
        "id": "wraugmqoWDWI"
      },
      "execution_count": null,
      "outputs": []
    },
    {
      "cell_type": "code",
      "source": [
        "epochs=30  #etait a 10\n",
        "hist = model.fit(\n",
        "    train_ds,\n",
        "    validation_data = val_ds,\n",
        "    epochs=epochs\n",
        ")"
      ],
      "metadata": {
        "id": "wFLI9RDkWFN1"
      },
      "execution_count": null,
      "outputs": []
    },
    {
      "cell_type": "code",
      "source": [
        "acc = hist.history['accuracy']\n",
        "val_acc = hist.history['val_accuracy']\n",
        "\n",
        "loss = hist.history['loss']\n",
        "val_loss = hist.history['val_loss']\n",
        "\n",
        "epochs_range = range(epochs)\n",
        "\n",
        "plt.figure(figsize=(8, 8))\n",
        "plt.subplot(1, 2, 1)\n",
        "plt.plot(epochs_range, acc, label='Training Accuracy')\n",
        "plt.plot(epochs_range, val_acc, label='Validation Accuracy')\n",
        "plt.legend(loc='lower right')\n",
        "plt.title('Training and Validation Accuracy')\n",
        "\n",
        "plt.subplot(1, 2, 2)\n",
        "plt.plot(epochs_range, loss, label='Training Loss')\n",
        "plt.plot(epochs_range, val_loss, label='Validation Loss')\n",
        "plt.legend(loc='upper right')\n",
        "plt.title('Training and Validation Loss')\n",
        "plt.show()"
      ],
      "metadata": {
        "id": "yZ_YTFtHWK53"
      },
      "execution_count": null,
      "outputs": []
    },
    {
      "cell_type": "markdown",
      "source": [
        "**Augmentation des données**"
      ],
      "metadata": {
        "id": "S0AxJ_9JWO1d"
      }
    },
    {
      "cell_type": "code",
      "source": [
        "data_augmentation = keras.Sequential(\n",
        "  [\n",
        "    layers.RandomFlip(\"horizontal\",\n",
        "                      input_shape=(img_height,\n",
        "                                  img_width,\n",
        "                                  3)),\n",
        "    layers.RandomRotation(0.1),\n",
        "    layers.RandomZoom(0.1),\n",
        "  ]\n",
        ")"
      ],
      "metadata": {
        "id": "iTBNwD0KWQB_"
      },
      "execution_count": null,
      "outputs": []
    },
    {
      "cell_type": "markdown",
      "source": [
        "Visualisons à quoi ressemblent quelques exemples augmentés en appliquant plusieurs fois l'augmentation de données à la même image :"
      ],
      "metadata": {
        "id": "G5EBsYxmWVCY"
      }
    },
    {
      "cell_type": "code",
      "source": [
        "plt.figure(figsize=(10, 10))\n",
        "for images, _ in train_ds.take(1):\n",
        "  for i in range(9):\n",
        "    augmented_images = data_augmentation(images)\n",
        "    ax = plt.subplot(3, 3, i + 1)\n",
        "    plt.imshow(augmented_images[0].numpy().astype(\"uint8\"))\n",
        "    plt.axis(\"off\")"
      ],
      "metadata": {
        "id": "XFqhF2-EWXzQ"
      },
      "execution_count": null,
      "outputs": []
    },
    {
      "cell_type": "markdown",
      "source": [
        "**Abandonner**"
      ],
      "metadata": {
        "id": "EPC5tp_5Wdo3"
      }
    },
    {
      "cell_type": "markdown",
      "source": [
        "Une autre technique pour réduire le surajustement consiste à introduire une régularisation des abandons dans le réseau.\n",
        "\n",
        "Lorsque vous appliquez une suppression à une couche, elle supprime de manière aléatoire (en définissant l'activation sur zéro) un certain nombre d'unités de sortie de la couche pendant le processus d'apprentissage. L'abandon prend un nombre fractionnaire comme valeur d'entrée, sous la forme de 0,1, 0,2, 0,4, etc. Cela signifie abandonner 10 %, 20 % ou 40 % des unités de sortie au hasard de la couche appliquée.\n",
        "\n",
        "Créons un nouveau réseau de neurones avec tf.keras.layers.Dropout avant de l'entraîner à l'aide des images augmentées :"
      ],
      "metadata": {
        "id": "E6aI8UoDWeYP"
      }
    },
    {
      "cell_type": "code",
      "source": [
        "model = Sequential([\n",
        "  data_augmentation,\n",
        "  layers.Rescaling(1./255),\n",
        "  layers.Conv2D(16, 3, padding='same', activation='relu'),\n",
        "  layers.MaxPooling2D(),\n",
        "  layers.Conv2D(32, 3, padding='same', activation='relu'),\n",
        "  layers.MaxPooling2D(),\n",
        "  layers.Conv2D(64, 3, padding='same', activation='relu'),\n",
        "  layers.MaxPooling2D(),\n",
        "  layers.Dropout(0.2),\n",
        "  layers.Flatten(),\n",
        "  layers.Dense(128, activation='relu'),\n",
        "  layers.Dense(num_classes)\n",
        "])"
      ],
      "metadata": {
        "id": "SXUm6bF5WhKY"
      },
      "execution_count": null,
      "outputs": []
    },
    {
      "cell_type": "markdown",
      "source": [
        "Compiler et entraîner le modèle"
      ],
      "metadata": {
        "id": "vfjybeB9Wpq7"
      }
    },
    {
      "cell_type": "code",
      "source": [
        "model.compile(optimizer='adam',\n",
        "              loss=tf.keras.losses.SparseCategoricalCrossentropy(from_logits=True),\n",
        "              metrics=['accuracy'])"
      ],
      "metadata": {
        "id": "iHGihOcwWsWJ"
      },
      "execution_count": null,
      "outputs": []
    },
    {
      "cell_type": "code",
      "source": [
        "model.summary()"
      ],
      "metadata": {
        "id": "efkoZTtwWuSA"
      },
      "execution_count": null,
      "outputs": []
    },
    {
      "cell_type": "code",
      "source": [
        "epochs = 20  #etait a 15\n",
        "history = model.fit(\n",
        "  train_ds,\n",
        "  validation_data=val_ds,\n",
        "  epochs=epochs\n",
        ")"
      ],
      "metadata": {
        "id": "vYXiXPVCW0Bh"
      },
      "execution_count": null,
      "outputs": []
    },
    {
      "cell_type": "markdown",
      "source": [
        "Visualisez les résultats de l'entraînement"
      ],
      "metadata": {
        "id": "LdPmmSCkW3gp"
      }
    },
    {
      "cell_type": "code",
      "source": [
        "acc = history.history['accuracy']\n",
        "val_acc = history.history['val_accuracy']\n",
        "\n",
        "loss = history.history['loss']\n",
        "val_loss = history.history['val_loss']\n",
        "\n",
        "epochs_range = range(epochs)\n",
        "\n",
        "plt.figure(figsize=(8, 8))\n",
        "plt.subplot(1, 2, 1)\n",
        "plt.plot(epochs_range, acc, label='Training Accuracy')\n",
        "plt.plot(epochs_range, val_acc, label='Validation Accuracy')\n",
        "plt.legend(loc='lower right')\n",
        "plt.title('Training and Validation Accuracy')\n",
        "\n",
        "plt.subplot(1, 2, 2)\n",
        "plt.plot(epochs_range, loss, label='Training Loss')\n",
        "plt.plot(epochs_range, val_loss, label='Validation Loss')\n",
        "plt.legend(loc='upper right')\n",
        "plt.title('Training and Validation Loss')\n",
        "plt.show()"
      ],
      "metadata": {
        "id": "10Lx-YacW6Ya"
      },
      "execution_count": null,
      "outputs": []
    },
    {
      "cell_type": "code",
      "source": [
        "model.evaluate(test_ds)"
      ],
      "metadata": {
        "id": "o-Hys3fmXpIY"
      },
      "execution_count": null,
      "outputs": []
    },
    {
      "cell_type": "code",
      "source": [
        "import numpy\n",
        "\n",
        "plt.figure(figsize=(10,10))\n",
        "for images, labels in test_ds.take(1):\n",
        "  classifications = model(images)\n",
        "  # print(classifications)\n",
        "  \n",
        "  for i in range(9):\n",
        "    ax = plt.subplot(3, 3, i + 1)\n",
        "    plt.imshow(images[i].numpy().astype(\"uint8\"))\n",
        "    index = numpy.argmax(classifications[i])\n",
        "    plt.title(\"Pred: \" + class_names[index] + \" | Real: \" + class_names[labels[i]])"
      ],
      "metadata": {
        "id": "y7-j0y-GXro4"
      },
      "execution_count": null,
      "outputs": []
    },
    {
      "cell_type": "markdown",
      "source": [
        "conversion du model en model tensorflow lite pour une utilisation sur android"
      ],
      "metadata": {
        "id": "QSTzFFEqXuGQ"
      }
    },
    {
      "cell_type": "code",
      "source": [
        "converter = tf.lite.TFLiteConverter.from_keras_model(model)\n",
        "tflite_model = converter.convert()\n",
        "\n",
        "with open(\"modelPomme11Objet1.tflite\", 'wb') as f:\n",
        "  f.write(tflite_model)"
      ],
      "metadata": {
        "id": "t1Lnhv6rXumS"
      },
      "execution_count": null,
      "outputs": []
    }
  ]
}